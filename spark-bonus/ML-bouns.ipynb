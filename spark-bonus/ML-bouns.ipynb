{
 "cells": [
  {
   "cell_type": "markdown",
   "id": "71a699ae-64a5-49b7-b120-2290005a9350",
   "metadata": {
    "tags": []
   },
   "source": [
    "# Running Spark with MLlib Machine Learning Library\n",
    "\n",
    "Example from:\n",
    "https://spark.apache.org/docs/latest/mllib-ensembles.html#gradient-boosted-trees-gbts"
   ]
  },
  {
   "cell_type": "markdown",
   "id": "ad968477-98e3-46e4-aca9-54ca28a6c04f",
   "metadata": {},
   "source": [
    "The Spark session was already started when we started the Spark job\n",
    "\n",
    "Lets see the SparkContext"
   ]
  },
  {
   "cell_type": "code",
   "execution_count": 1,
   "id": "d4cc7837-7edb-4173-9722-270ae7f33995",
   "metadata": {},
   "outputs": [
    {
     "data": {
      "text/html": [
       "\n",
       "        <div>\n",
       "            <p><b>SparkContext</b></p>\n",
       "\n",
       "            <p><a href=\"http://n1829.hoffman2.idre.ucla.edu:4040\">Spark UI</a></p>\n",
       "\n",
       "            <dl>\n",
       "              <dt>Version</dt>\n",
       "                <dd><code>v3.3.0</code></dd>\n",
       "              <dt>Master</dt>\n",
       "                <dd><code>spark://n1829:7077</code></dd>\n",
       "              <dt>AppName</dt>\n",
       "                <dd><code>PySparkShell</code></dd>\n",
       "            </dl>\n",
       "        </div>\n",
       "        "
      ],
      "text/plain": [
       "<SparkContext master=spark://n1829:7077 appName=PySparkShell>"
      ]
     },
     "execution_count": 1,
     "metadata": {},
     "output_type": "execute_result"
    }
   ],
   "source": [
    "sc.setLogLevel(\"ERROR\")\n",
    "sc"
   ]
  },
  {
   "cell_type": "markdown",
   "id": "ff16a41d-605b-442b-8100-39bc48e7c798",
   "metadata": {},
   "source": [
    "---\n",
    "\n",
    "Lets make sure Spark can see all the cores\n",
    "\n",
    "We have two 36-core compute nodes with 72 cores in total"
   ]
  },
  {
   "cell_type": "code",
   "execution_count": 2,
   "id": "b0461865-b95a-4910-a966-f2951c48bfbf",
   "metadata": {},
   "outputs": [
    {
     "data": {
      "text/plain": [
       "72"
      ]
     },
     "execution_count": 2,
     "metadata": {},
     "output_type": "execute_result"
    }
   ],
   "source": [
    "sc.defaultParallelism"
   ]
  },
  {
   "cell_type": "markdown",
   "id": "73264455-b12c-45f5-8b14-6fc632fa9514",
   "metadata": {},
   "source": [
    "---\n",
    "\n",
    "Lets load the txt file to a Spark DataFrame"
   ]
  },
  {
   "cell_type": "code",
   "execution_count": 7,
   "id": "1bfe9122-b981-4f43-b087-4e60f94b7746",
   "metadata": {},
   "outputs": [
    {
     "name": "stderr",
     "output_type": "stream",
     "text": [
      "                                                                                \r"
     ]
    },
    {
     "data": {
      "text/plain": [
       "PythonRDD[9] at RDD at PythonRDD.scala:53"
      ]
     },
     "execution_count": 7,
     "metadata": {},
     "output_type": "execute_result"
    }
   ],
   "source": [
    "from pyspark.mllib.tree import GradientBoostedTrees, GradientBoostedTreesModel\n",
    "from pyspark.mllib.util import MLUtils\n",
    "\n",
    "# Load and parse the data file.\n",
    "data = MLUtils.loadLibSVMFile(sc, \"sample_libsvm_data.txt\")\n",
    "data"
   ]
  },
  {
   "cell_type": "markdown",
   "id": "b9122679-ec2a-41fa-8983-9079f346834c",
   "metadata": {},
   "source": [
    "---\n",
    "\n",
    "Lets use MLlib to split the data to training and test sets"
   ]
  },
  {
   "cell_type": "code",
   "execution_count": 8,
   "id": "0a4d6193-3690-4345-9068-2aebd91b52dd",
   "metadata": {},
   "outputs": [],
   "source": [
    "# Split the data into training and test sets (30% held out for testing)\n",
    "(trainingData, testData) = data.randomSplit([0.7, 0.3])"
   ]
  },
  {
   "cell_type": "code",
   "execution_count": 9,
   "id": "dc3bed14-2ee4-40cb-8858-39b3d64e31f6",
   "metadata": {},
   "outputs": [
    {
     "name": "stderr",
     "output_type": "stream",
     "text": [
      "                                                                                \r"
     ]
    }
   ],
   "source": [
    "# Train a GradientBoostedTrees model.\n",
    "#  Notes: (a) Empty categoricalFeaturesInfo indicates all features are continuous.\n",
    "#         (b) Use more iterations in practice.\n",
    "model = GradientBoostedTrees.trainClassifier(trainingData,\n",
    "                                             categoricalFeaturesInfo={}, numIterations=3)"
   ]
  },
  {
   "cell_type": "code",
   "execution_count": 10,
   "id": "7251474f-c5e1-410c-b1d8-374b164b9c44",
   "metadata": {},
   "outputs": [
    {
     "name": "stdout",
     "output_type": "stream",
     "text": [
      "Test Error = 0.037037037037037035\n"
     ]
    }
   ],
   "source": [
    "# Evaluate model on test instances and compute test error\n",
    "predictions = model.predict(testData.map(lambda x: x.features))\n",
    "labelsAndPredictions = testData.map(lambda lp: lp.label).zip(predictions)\n",
    "testErr = labelsAndPredictions.filter(\n",
    "    lambda lp: lp[0] != lp[1]).count() / float(testData.count())\n",
    "print('Test Error = ' + str(testErr))"
   ]
  },
  {
   "cell_type": "code",
   "execution_count": 11,
   "id": "b968107c-e979-42fe-badc-8ad94b1541a6",
   "metadata": {},
   "outputs": [
    {
     "name": "stderr",
     "output_type": "stream",
     "text": [
      "                                                                                \r"
     ]
    }
   ],
   "source": [
    "# Save and load model\n",
    "model.save(sc, \"target/myGradientBoostingClassificationModel\")\n",
    "sameModel = GradientBoostedTreesModel.load(sc,\n",
    "                                           \"target/myGradientBoostingClassificationModel\")"
   ]
  },
  {
   "cell_type": "code",
   "execution_count": null,
   "id": "78fa9de4-fd77-480c-99dd-21448d2a1613",
   "metadata": {},
   "outputs": [],
   "source": []
  }
 ],
 "metadata": {
  "kernelspec": {
   "display_name": "Python 3 (ipykernel)",
   "language": "python",
   "name": "python3"
  },
  "language_info": {
   "codemirror_mode": {
    "name": "ipython",
    "version": 3
   },
   "file_extension": ".py",
   "mimetype": "text/x-python",
   "name": "python",
   "nbconvert_exporter": "python",
   "pygments_lexer": "ipython3",
   "version": "3.9.13"
  }
 },
 "nbformat": 4,
 "nbformat_minor": 5
}
