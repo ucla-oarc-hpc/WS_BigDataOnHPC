{
 "cells": [
  {
   "cell_type": "markdown",
   "id": "3cf5e57f-b496-42d1-a1ae-ae8efeb97fa3",
   "metadata": {},
   "source": [
    "# Spark Basics\n",
    "\n",
    "This notebook will go over some simple PySpark tasks"
   ]
  },
  {
   "cell_type": "code",
   "execution_count": 1,
   "id": "296fdfc5-2873-4d04-8eda-92e278f752a0",
   "metadata": {},
   "outputs": [],
   "source": [
    "from pyspark import SparkContext\n",
    "from pyspark.sql import SparkSession\n",
    "import pyspark"
   ]
  },
  {
   "cell_type": "markdown",
   "id": "b3e1928d-d98a-4e9d-94a9-2fad7ed94378",
   "metadata": {},
   "source": [
    "First, we will need to start the Spark Session\n",
    "\n",
    "We will name the Spark Session, MyPySpark\n",
    "\n",
    "We will also give 15 GB of memory to the Spark Driver Process.\n",
    "By default, Spark only gives the Driver a few GB's. \n",
    "\n",
    "The SparkContext is created with the `spark` object.\n",
    "We will limit the `sc` sparkContext object to give only ERROR messages.\n",
    "If not, you may see a lot of INFO messages"
   ]
  },
  {
   "cell_type": "code",
   "execution_count": 2,
   "id": "8b0c4606-1b40-44c7-bd30-24cf8de99e64",
   "metadata": {},
   "outputs": [
    {
     "name": "stderr",
     "output_type": "stream",
     "text": [
      "Setting default log level to \"WARN\".\n",
      "To adjust logging level use sc.setLogLevel(newLevel). For SparkR, use setLogLevel(newLevel).\n"
     ]
    },
    {
     "name": "stdout",
     "output_type": "stream",
     "text": [
      "22/10/24 11:57:51 WARN NativeCodeLoader: Unable to load native-hadoop library for your platform... using builtin-java classes where applicable\n"
     ]
    }
   ],
   "source": [
    "spark = SparkSession.builder.appName(\"MyPySpark\").config(\"spark.driver.memory\", \"15g\").getOrCreate()\n",
    "sc = spark.sparkContext\n",
    "sc.setLogLevel(\"ERROR\")"
   ]
  },
  {
   "cell_type": "code",
   "execution_count": 3,
   "id": "c513d2db-9e16-48e4-9e57-cae9f30fcc01",
   "metadata": {},
   "outputs": [
    {
     "data": {
      "text/html": [
       "\n",
       "            <div>\n",
       "                <p><b>SparkSession - in-memory</b></p>\n",
       "                \n",
       "        <div>\n",
       "            <p><b>SparkContext</b></p>\n",
       "\n",
       "            <p><a href=\"http://n1829.hoffman2.idre.ucla.edu:4040\">Spark UI</a></p>\n",
       "\n",
       "            <dl>\n",
       "              <dt>Version</dt>\n",
       "                <dd><code>v3.3.0</code></dd>\n",
       "              <dt>Master</dt>\n",
       "                <dd><code>local[*]</code></dd>\n",
       "              <dt>AppName</dt>\n",
       "                <dd><code>MyPySpark</code></dd>\n",
       "            </dl>\n",
       "        </div>\n",
       "        \n",
       "            </div>\n",
       "        "
      ],
      "text/plain": [
       "<pyspark.sql.session.SparkSession at 0x2af481a917f0>"
      ]
     },
     "execution_count": 3,
     "metadata": {},
     "output_type": "execute_result"
    }
   ],
   "source": [
    "spark"
   ]
  },
  {
   "cell_type": "markdown",
   "id": "2a190a3a-d3a6-4d46-a220-b00b49833d83",
   "metadata": {},
   "source": [
    "We can see the details of the Spark object.\n",
    "The `local[*]` shows we will use all the CPU cores on this current compute node\n",
    "\n",
    "Lets check the number of CPU cores Spark will be using. (This machine has 36 CPU cores)"
   ]
  },
  {
   "cell_type": "code",
   "execution_count": 4,
   "id": "5521fd42-2ff0-48aa-8253-bb69ced755f4",
   "metadata": {},
   "outputs": [
    {
     "data": {
      "text/plain": [
       "36"
      ]
     },
     "execution_count": 4,
     "metadata": {},
     "output_type": "execute_result"
    }
   ],
   "source": [
    "sc.defaultParallelism"
   ]
  },
  {
   "cell_type": "markdown",
   "id": "52c5f481-f7b4-4684-895e-2db470e390cb",
   "metadata": {},
   "source": [
    "---\n",
    "\n",
    "Lets create a random number list with 1000 numbers <br>Save the list to the variable `num_data`"
   ]
  },
  {
   "cell_type": "code",
   "execution_count": 5,
   "id": "dbaad9fd-0bf8-4739-b3b1-d5d4180fc969",
   "metadata": {},
   "outputs": [
    {
     "data": {
      "text/plain": [
       "[52, 93, 15, 72, 61]"
      ]
     },
     "execution_count": 5,
     "metadata": {},
     "output_type": "execute_result"
    }
   ],
   "source": [
    "import numpy as np\n",
    "\n",
    "np.random.seed(42)\n",
    "\n",
    "num_data = []\n",
    "for i in range(0,200):\n",
    "    num_tmp = np.random.randint(1,100)\n",
    "    num_data.append(num_tmp)\n",
    "    \n",
    "#Print first 5 values from list\n",
    "num_data[0:5]"
   ]
  },
  {
   "cell_type": "markdown",
   "id": "8b145bf2-3e4d-4903-b36b-66ca7b74590d",
   "metadata": {},
   "source": [
    "___\n",
    "\n",
    "Now, Let's create a RDD object from the num_data list\n",
    "\n",
    "This RDD object will be saved as `num_map_rdd`"
   ]
  },
  {
   "cell_type": "code",
   "execution_count": 6,
   "id": "a4443399-d2e1-4b94-a81f-04dc119e70d6",
   "metadata": {},
   "outputs": [
    {
     "data": {
      "text/plain": [
       "pyspark.rdd.RDD"
      ]
     },
     "execution_count": 6,
     "metadata": {},
     "output_type": "execute_result"
    }
   ],
   "source": [
    "num_rdd = sc.parallelize(num_data)\n",
    "type(num_rdd)"
   ]
  },
  {
   "cell_type": "markdown",
   "id": "f8eab68b-9a25-4288-90a0-43b4d2bf266a",
   "metadata": {},
   "source": [
    "---\n",
    "\n",
    "Use .count() to count the number of elements in the list"
   ]
  },
  {
   "cell_type": "code",
   "execution_count": 7,
   "id": "a9e50c56-277c-4935-9bc3-200a5a71dfb8",
   "metadata": {},
   "outputs": [
    {
     "name": "stderr",
     "output_type": "stream",
     "text": [
      "                                                                                \r"
     ]
    },
    {
     "data": {
      "text/plain": [
       "200"
      ]
     },
     "execution_count": 7,
     "metadata": {},
     "output_type": "execute_result"
    }
   ],
   "source": [
    "num_rdd.count()"
   ]
  },
  {
   "cell_type": "markdown",
   "id": "e318e37f-b9af-4e3b-9a3d-3d9b48587c73",
   "metadata": {},
   "source": [
    "---\n",
    "\n",
    "Use .map() on the RDD (Spark) list. \n",
    "\n",
    "This will create a new RDD object with the map function. This \"lazy evaluation\" will NOT compute the results so will NOT have the final value. \n",
    "\n",
    "This RDD object will just contain the \"task\" of running x^2 to be computed when you need it. \n",
    "\n",
    "This .map() function would be very quick since it will not compute x^2 over the list \n",
    "\n",
    "This new RDD object is saved as `num_map_rdd`"
   ]
  },
  {
   "cell_type": "code",
   "execution_count": 8,
   "id": "530f4860-a12f-481d-aa82-c9b7c85543b0",
   "metadata": {},
   "outputs": [
    {
     "data": {
      "text/plain": [
       "PythonRDD[2] at RDD at PythonRDD.scala:53"
      ]
     },
     "execution_count": 8,
     "metadata": {},
     "output_type": "execute_result"
    }
   ],
   "source": [
    "num_map_rdd = num_rdd.map(lambda x: x * x)\n",
    "num_map_rdd"
   ]
  },
  {
   "cell_type": "markdown",
   "id": "bfe10814-3b46-461e-a8b4-00c0deedbfa6",
   "metadata": {},
   "source": [
    "---\n",
    "\n",
    "Now will will ask to print the first 5 values from x^2. \n",
    "\n",
    "Using .take(N) will return an array with the first N elements.\n",
    "\n",
    "Spark will now compute the x^2 values since we asked for the values.<br>This will be quicker since the RDD object is parallized over 36 cores"
   ]
  },
  {
   "cell_type": "code",
   "execution_count": 9,
   "id": "8b4a6539-870a-463c-b3d7-1e936341bf35",
   "metadata": {},
   "outputs": [
    {
     "data": {
      "text/plain": [
       "[2704, 8649, 225, 5184, 3721]"
      ]
     },
     "execution_count": 9,
     "metadata": {},
     "output_type": "execute_result"
    }
   ],
   "source": [
    "num_map_rdd.take(5)"
   ]
  },
  {
   "cell_type": "markdown",
   "id": "7d7008cc-7e53-4f8f-a498-e9c6b7853867",
   "metadata": {},
   "source": [
    "---\n",
    "\n",
    "Lets use .filter() on the RDD object to return a new RDD object will only the numbers that pass the condition"
   ]
  },
  {
   "cell_type": "code",
   "execution_count": 10,
   "id": "7d2e7dee-f662-42c7-8efd-cd19124b5d1e",
   "metadata": {},
   "outputs": [
    {
     "name": "stdout",
     "output_type": "stream",
     "text": [
      "Number of values in new filter RDD:  28\n",
      "First 5 values in the new RDD:  [3, 2, 2, 3, 7]\n"
     ]
    }
   ],
   "source": [
    "num_filter_rdd = num_rdd.filter(lambda x: x < 10)\n",
    "print(\"Number of values in new filter RDD: \", str(num_filter_rdd.count()))\n",
    "print(\"First 5 values in the new RDD: \", str(num_filter_rdd.take(5)))"
   ]
  },
  {
   "cell_type": "markdown",
   "id": "2c03cd31-f794-44b6-8641-015a44a27538",
   "metadata": {},
   "source": [
    "---\n",
    "\n",
    "Use .collect() on the RDD will return all the elements of the RDD object to a normal Python list"
   ]
  },
  {
   "cell_type": "code",
   "execution_count": 11,
   "id": "714dcf38-2d08-4f54-bf6e-e2d389faec62",
   "metadata": {},
   "outputs": [
    {
     "name": "stdout",
     "output_type": "stream",
     "text": [
      "<class 'list'>\n",
      "[52, 93, 15, 72, 61]\n"
     ]
    }
   ],
   "source": [
    "num_filter_array = num_rdd.collect()\n",
    "print(type(num_filter_array))\n",
    "print(num_filter_array[0:5])"
   ]
  },
  {
   "cell_type": "markdown",
   "id": "496d907a-a72f-4198-8848-7f9038906f65",
   "metadata": {},
   "source": [
    "---\n",
    "\n",
    "# Working with Spark and word text\n",
    "\n",
    "In this example, we will use data from Project Gutenberg \n",
    "\n",
    "\"The Hound of the Baskervilles, by Arthur Conan Doyle\n",
    "\n",
    "The download TXT file is at `3070.txt`\n",
    "\n",
    "We will load this TXT file to a RDD object with `.textFile()`\n",
    "\n",
    "This will load the TXT by LINE"
   ]
  },
  {
   "cell_type": "code",
   "execution_count": 12,
   "id": "1512182c-75a0-451e-9832-35ca281abf15",
   "metadata": {},
   "outputs": [],
   "source": [
    "path = \"3070.txt\"\n",
    "book_rdd = sc.textFile(path)"
   ]
  },
  {
   "cell_type": "markdown",
   "id": "cd1c3d1b-eb05-46ac-b4cd-45683293c43c",
   "metadata": {},
   "source": [
    "Print the first 10 lines of the Text"
   ]
  },
  {
   "cell_type": "code",
   "execution_count": 13,
   "id": "7f780d14-8705-4d5d-98ea-56044f1674c4",
   "metadata": {},
   "outputs": [
    {
     "data": {
      "text/plain": [
       "[\"Project Gutenberg's The Hound of the Baskervilles, by Arthur Conan Doyle\",\n",
       " '',\n",
       " 'This eBook is for the use of anyone anywhere at no cost and with',\n",
       " 'almost no restrictions whatsoever.  You may copy it, give it away or',\n",
       " 're-use it under the terms of the Project Gutenberg License included',\n",
       " 'with this eBook or online at www.gutenberg.org',\n",
       " '',\n",
       " '',\n",
       " 'Title: The Hound of the Baskervilles',\n",
       " '',\n",
       " 'Author: Arthur Conan Doyle',\n",
       " '',\n",
       " 'Posting Date: October 10, 2010',\n",
       " 'Release Date: February, 2002 [Etext #3070]',\n",
       " '']"
      ]
     },
     "execution_count": 13,
     "metadata": {},
     "output_type": "execute_result"
    }
   ],
   "source": [
    "book_rdd.take(15)"
   ]
  },
  {
   "cell_type": "markdown",
   "id": "64d3093e-5e14-4852-a1f3-64742eb6c9bf",
   "metadata": {},
   "source": [
    "Count the total number of lines in this text"
   ]
  },
  {
   "cell_type": "markdown",
   "id": "273cfd2e-90ee-47a0-9081-762c2d4661ef",
   "metadata": {},
   "source": [
    "<font size=\"5\">Count the number of rows in the dataCount the number of rows in the data</font>"
   ]
  },
  {
   "cell_type": "markdown",
   "id": "d768853d-e81d-45a7-b6fc-b36a85644e30",
   "metadata": {},
   "source": [
    "---\n",
    "\n",
    "Lets split the lines into words\n",
    "\n",
    "We will split the book text into the individual words.\n",
    "\n",
    "The .flatMap() function can return multiple values for each element in the RDD"
   ]
  },
  {
   "cell_type": "code",
   "execution_count": 14,
   "id": "647f3068-11f9-48ba-8684-753a8f0cba07",
   "metadata": {},
   "outputs": [
    {
     "data": {
      "text/plain": [
       "7729"
      ]
     },
     "execution_count": 14,
     "metadata": {},
     "output_type": "execute_result"
    }
   ],
   "source": [
    "book_rdd.count()"
   ]
  },
  {
   "cell_type": "markdown",
   "id": "555512dc-912b-46ff-b907-ec6c03e2235b",
   "metadata": {},
   "source": [
    "---\n",
    "\n",
    "Now, we create a new \"pair\" RDD `key_value_rdd` with key/value pairs.\n",
    "\n",
    "First, this RDD will have (\"word\",1) for each element of the RDD"
   ]
  },
  {
   "cell_type": "code",
   "execution_count": 15,
   "id": "11b4bc30",
   "metadata": {},
   "outputs": [
    {
     "name": "stdout",
     "output_type": "stream",
     "text": [
      "Number of words: 62248\n",
      "Number of distinct words: 9885\n"
     ]
    }
   ],
   "source": [
    "words_rdd = book_rdd.flatMap(lambda x: x.split())\n",
    "num_words = words_rdd.count()\n",
    "print(\"Number of words: \" + str(num_words))\n",
    "\n",
    "num_distinct_words = words_rdd.distinct().count()\n",
    "print(\"Number of distinct words: \" + str(num_distinct_words))"
   ]
  },
  {
   "cell_type": "markdown",
   "id": "2e4a488d-ced5-4647-95ca-fae93c33a5ba",
   "metadata": {},
   "source": [
    "---\n",
    "\n",
    "We will split the book text into the individual words. \n",
    "\n",
    "We will use .reduceByKey() to combine all the same words."
   ]
  },
  {
   "cell_type": "code",
   "execution_count": 17,
   "id": "9792e814-0633-427d-8519-4e6ae15fdd6f",
   "metadata": {},
   "outputs": [
    {
     "data": {
      "text/plain": [
       "[('Project', 78), ('The', 217), ('Hound', 11), ('of', 1694), ('Arthur', 4)]"
      ]
     },
     "execution_count": 17,
     "metadata": {},
     "output_type": "execute_result"
    }
   ],
   "source": [
    "word_kv_rdd = key_value_rdd.reduceByKey(lambda x,y: x+y)\n",
    "word_kv_rdd.take(5)"
   ]
  },
  {
   "cell_type": "markdown",
   "id": "ce5295e3-c17b-4f7b-b7b9-83a0d4b6e8a5",
   "metadata": {},
   "source": [
    "---\n",
    "\n",
    "This will sort the key/value pairs by decreasing occurrences of words\n",
    "\n",
    "First, we will need to flip the key/value pair to show (N, word) where N is the number of occurrences of word"
   ]
  },
  {
   "cell_type": "code",
   "execution_count": 18,
   "id": "073db36d-0c5a-4622-93c6-0c2e4a261a4a",
   "metadata": {},
   "outputs": [
    {
     "data": {
      "text/plain": [
       "[(78, 'Project'), (217, 'The'), (11, 'Hound'), (1694, 'of'), (4, 'Arthur')]"
      ]
     },
     "execution_count": 18,
     "metadata": {},
     "output_type": "execute_result"
    }
   ],
   "source": [
    "flip_word_kv_rdd = word_kv_rdd.map(lambda x: (x[1],x[0]))\n",
    "flip_word_kv_rdd.take(5)"
   ]
  },
  {
   "cell_type": "markdown",
   "id": "e7f6065c-51e9-4c5f-b8f0-d1a9b47a6767",
   "metadata": {},
   "source": [
    "---\n",
    "\n",
    "We will now use .sortByKey()"
   ]
  },
  {
   "cell_type": "code",
   "execution_count": 19,
   "id": "ca48a6b0-f980-40e3-bbff-56ab1adfc442",
   "metadata": {},
   "outputs": [
    {
     "data": {
      "text/plain": [
       "[(3230, 'the'), (1694, 'of'), (1562, 'and'), (1449, 'to'), (1279, 'a')]"
      ]
     },
     "execution_count": 19,
     "metadata": {},
     "output_type": "execute_result"
    }
   ],
   "source": [
    "word_results_rdd = flip_word_kv_rdd.sortByKey(False)\n",
    "word_results_rdd.take(5)"
   ]
  },
  {
   "cell_type": "markdown",
   "id": "c907e17e-b48d-40a4-9c1a-a79f9ab3f483",
   "metadata": {},
   "source": [
    "---\n",
    "\n",
    "There are many other functions within Spark that can do more linguistics type tasks with a RDD object. Like removing \"stop\" words and \"stemming\""
   ]
  },
  {
   "cell_type": "code",
   "execution_count": null,
   "id": "cc5a032d-a78d-4a97-af36-76da4f6dd416",
   "metadata": {},
   "outputs": [],
   "source": []
  },
  {
   "cell_type": "code",
   "execution_count": 16,
   "id": "5006e1af-d85d-488d-9e9f-70c0fbfb2ea6",
   "metadata": {},
   "outputs": [
    {
     "data": {
      "text/plain": [
       "[('Project', 1), (\"Gutenberg's\", 1), ('The', 1), ('Hound', 1), ('of', 1)]"
      ]
     },
     "execution_count": 16,
     "metadata": {},
     "output_type": "execute_result"
    }
   ],
   "source": [
    "key_value_rdd = words_rdd.map(lambda x: (x,1))\n",
    "key_value_rdd.take(5)"
   ]
  }
 ],
 "metadata": {
  "kernelspec": {
   "display_name": "mypyspark",
   "language": "python",
   "name": "mypyspark"
  },
  "language_info": {
   "codemirror_mode": {
    "name": "ipython",
    "version": 3
   },
   "file_extension": ".py",
   "mimetype": "text/x-python",
   "name": "python",
   "nbconvert_exporter": "python",
   "pygments_lexer": "ipython3",
   "version": "3.9.13"
  }
 },
 "nbformat": 4,
 "nbformat_minor": 5
}
