{
 "cells": [
  {
   "cell_type": "markdown",
   "id": "797d9245-75e1-48eb-920c-acdc8e7a3d0a",
   "metadata": {},
   "source": [
    "# Million Song Dataset\n",
    "\n",
    "This is a subset of the Million Song Dataset http://millionsongdataset.com/\n",
    "\n",
    "This subset was taked from the UCI Machine Learning Repository https://archive.ics.uci.edu/ml/datasets/YearPredictionMSD#\n",
    "\n",
    "This dataset contains over 500,000 songs with the year of the song with 90 attributes relating to the timbre average and timbre covaraiance of the song.\n",
    "\n",
    "We will create a model that can predict the year of the song based on the timbre attributes (color or tone quality) of the song."
   ]
  },
  {
   "cell_type": "code",
   "execution_count": 1,
   "id": "b6918bc6-ae58-4094-8c6f-eef9d4f099e1",
   "metadata": {},
   "outputs": [],
   "source": [
    "from pyspark import SparkContext\n",
    "from pyspark.sql import SparkSession\n",
    "import pyspark\n",
    "import json"
   ]
  },
  {
   "cell_type": "markdown",
   "id": "02bdb5a2-eea7-4d37-9cd2-a003346b2206",
   "metadata": {},
   "source": [
    "Create a Spark Seesion\n",
    "\n",
    "Spark's Machine Learning libraries can require a higher amount of memory for the Java spark driver process"
   ]
  },
  {
   "cell_type": "code",
   "execution_count": 2,
   "id": "3e95eb51-8afb-4e13-9e90-b141014aeda9",
   "metadata": {},
   "outputs": [
    {
     "data": {
      "text/html": [
       "\n",
       "            <div>\n",
       "                <p><b>SparkSession - hive</b></p>\n",
       "                \n",
       "        <div>\n",
       "            <p><b>SparkContext</b></p>\n",
       "\n",
       "            <p><a href=\"http://n6466.hoffman2.idre.ucla.edu:4040\">Spark UI</a></p>\n",
       "\n",
       "            <dl>\n",
       "              <dt>Version</dt>\n",
       "                <dd><code>v3.3.0</code></dd>\n",
       "              <dt>Master</dt>\n",
       "                <dd><code>spark://n6466:7077</code></dd>\n",
       "              <dt>AppName</dt>\n",
       "                <dd><code>PySparkShell</code></dd>\n",
       "            </dl>\n",
       "        </div>\n",
       "        \n",
       "            </div>\n",
       "        "
      ],
      "text/plain": [
       "<pyspark.sql.session.SparkSession at 0x2af9a2b23ca0>"
      ]
     },
     "execution_count": 2,
     "metadata": {},
     "output_type": "execute_result"
    }
   ],
   "source": [
    "sc.setLogLevel(\"ERROR\")\n",
    "spark"
   ]
  },
  {
   "cell_type": "markdown",
   "id": "9c91744f-900b-49af-97e4-6f9d49c03cf9",
   "metadata": {},
   "source": [
    "---\n",
    "\n",
    "Loading the dataset\n",
    "\n",
    "When loading the dataset, Spark will assume the data being read are STRINGS, even if the data are numerical values. Using `interSchema=True` will get spark to infer what the datatype should be. "
   ]
  },
  {
   "cell_type": "code",
   "execution_count": 4,
   "id": "dbdd042a-9c62-4826-b5a2-e32155363bae",
   "metadata": {},
   "outputs": [
    {
     "name": "stderr",
     "output_type": "stream",
     "text": [
      "                                                                                \r"
     ]
    }
   ],
   "source": [
    "path = \"YearPredictionMSD.txt\"\n",
    "MSD_dd = spark.read.csv(path,inferSchema=True,header=False)"
   ]
  },
  {
   "cell_type": "markdown",
   "id": "bd89d011-fa95-45bf-8150-e7803a7fe49e",
   "metadata": {},
   "source": [
    "---\n",
    "\n",
    "Count number of elements in the Spark DataFrame"
   ]
  },
  {
   "cell_type": "code",
   "execution_count": 5,
   "id": "cf7e00de-d973-4c6d-ab95-bca6696db7a8",
   "metadata": {},
   "outputs": [
    {
     "name": "stderr",
     "output_type": "stream",
     "text": [
      "                                                                                \r"
     ]
    },
    {
     "data": {
      "text/plain": [
       "515345"
      ]
     },
     "execution_count": 5,
     "metadata": {},
     "output_type": "execute_result"
    }
   ],
   "source": [
    "MSD_dd.count()"
   ]
  },
  {
   "cell_type": "markdown",
   "id": "00dda26b-252c-43b2-a0ac-003b621b9a8d",
   "metadata": {},
   "source": [
    "---\n",
    "\n",
    "Show column names.\n",
    "\n",
    "We didn't have a header so the default column names are '_cX' "
   ]
  },
  {
   "cell_type": "code",
   "execution_count": 6,
   "id": "a917f56b-dbbc-41d9-9951-a56d135cd18f",
   "metadata": {},
   "outputs": [
    {
     "data": {
      "text/plain": [
       "['_c0',\n",
       " '_c1',\n",
       " '_c2',\n",
       " '_c3',\n",
       " '_c4',\n",
       " '_c5',\n",
       " '_c6',\n",
       " '_c7',\n",
       " '_c8',\n",
       " '_c9',\n",
       " '_c10',\n",
       " '_c11',\n",
       " '_c12',\n",
       " '_c13',\n",
       " '_c14',\n",
       " '_c15',\n",
       " '_c16',\n",
       " '_c17',\n",
       " '_c18',\n",
       " '_c19',\n",
       " '_c20',\n",
       " '_c21',\n",
       " '_c22',\n",
       " '_c23',\n",
       " '_c24',\n",
       " '_c25',\n",
       " '_c26',\n",
       " '_c27',\n",
       " '_c28',\n",
       " '_c29',\n",
       " '_c30',\n",
       " '_c31',\n",
       " '_c32',\n",
       " '_c33',\n",
       " '_c34',\n",
       " '_c35',\n",
       " '_c36',\n",
       " '_c37',\n",
       " '_c38',\n",
       " '_c39',\n",
       " '_c40',\n",
       " '_c41',\n",
       " '_c42',\n",
       " '_c43',\n",
       " '_c44',\n",
       " '_c45',\n",
       " '_c46',\n",
       " '_c47',\n",
       " '_c48',\n",
       " '_c49',\n",
       " '_c50',\n",
       " '_c51',\n",
       " '_c52',\n",
       " '_c53',\n",
       " '_c54',\n",
       " '_c55',\n",
       " '_c56',\n",
       " '_c57',\n",
       " '_c58',\n",
       " '_c59',\n",
       " '_c60',\n",
       " '_c61',\n",
       " '_c62',\n",
       " '_c63',\n",
       " '_c64',\n",
       " '_c65',\n",
       " '_c66',\n",
       " '_c67',\n",
       " '_c68',\n",
       " '_c69',\n",
       " '_c70',\n",
       " '_c71',\n",
       " '_c72',\n",
       " '_c73',\n",
       " '_c74',\n",
       " '_c75',\n",
       " '_c76',\n",
       " '_c77',\n",
       " '_c78',\n",
       " '_c79',\n",
       " '_c80',\n",
       " '_c81',\n",
       " '_c82',\n",
       " '_c83',\n",
       " '_c84',\n",
       " '_c85',\n",
       " '_c86',\n",
       " '_c87',\n",
       " '_c88',\n",
       " '_c89',\n",
       " '_c90']"
      ]
     },
     "execution_count": 6,
     "metadata": {},
     "output_type": "execute_result"
    }
   ],
   "source": [
    "MSD_dd.columns"
   ]
  },
  {
   "cell_type": "markdown",
   "id": "6c9e32b1-6120-4835-833a-63dbb0910bde",
   "metadata": {},
   "source": [
    "---\n",
    "\n",
    "Show the first 3 rows with the first 3 columns\n",
    "\n",
    "Column `_c0` is the YEAR of the song\n",
    "\n",
    "You will need to add `.show()` to list the values of the DataFrame"
   ]
  },
  {
   "cell_type": "code",
   "execution_count": 7,
   "id": "c43f8aaa-05a8-408f-8e58-09bcb1436f97",
   "metadata": {},
   "outputs": [
    {
     "data": {
      "text/plain": [
       "DataFrame[_c0: int, _c1: double, _c2: double, _c3: double]"
      ]
     },
     "execution_count": 7,
     "metadata": {},
     "output_type": "execute_result"
    }
   ],
   "source": [
    "MSD_dd.select(\"_c0\",\"_c1\",\"_c2\",\"_c3\")"
   ]
  },
  {
   "cell_type": "code",
   "execution_count": 8,
   "id": "10fa845e-e9e6-4c1a-ae0f-c616285c903a",
   "metadata": {},
   "outputs": [
    {
     "name": "stdout",
     "output_type": "stream",
     "text": [
      "+----+--------+--------+--------+\n",
      "| _c0|     _c1|     _c2|     _c3|\n",
      "+----+--------+--------+--------+\n",
      "|2001|49.94357|21.47114| 73.0775|\n",
      "|2001|48.73215| 18.4293|70.32679|\n",
      "|2001|50.95714|31.85602|55.81851|\n",
      "+----+--------+--------+--------+\n",
      "only showing top 3 rows\n",
      "\n"
     ]
    }
   ],
   "source": [
    "MSD_dd.select(\"_c0\",\"_c1\",\"_c2\",\"_c3\").show(3)"
   ]
  },
  {
   "cell_type": "markdown",
   "id": "ad8b2a0c-0afe-4e02-ac48-456feb2a149d",
   "metadata": {},
   "source": [
    "---\n",
    "\n",
    "Double check the data type with `.printSchema()`"
   ]
  },
  {
   "cell_type": "code",
   "execution_count": 9,
   "id": "8b2ef4c9-aa5d-4874-b608-2fa505001207",
   "metadata": {},
   "outputs": [
    {
     "name": "stdout",
     "output_type": "stream",
     "text": [
      "root\n",
      " |-- _c0: integer (nullable = true)\n",
      " |-- _c1: double (nullable = true)\n",
      " |-- _c2: double (nullable = true)\n",
      " |-- _c3: double (nullable = true)\n",
      " |-- _c4: double (nullable = true)\n",
      " |-- _c5: double (nullable = true)\n",
      " |-- _c6: double (nullable = true)\n",
      " |-- _c7: double (nullable = true)\n",
      " |-- _c8: double (nullable = true)\n",
      " |-- _c9: double (nullable = true)\n",
      " |-- _c10: double (nullable = true)\n",
      " |-- _c11: double (nullable = true)\n",
      " |-- _c12: double (nullable = true)\n",
      " |-- _c13: double (nullable = true)\n",
      " |-- _c14: double (nullable = true)\n",
      " |-- _c15: double (nullable = true)\n",
      " |-- _c16: double (nullable = true)\n",
      " |-- _c17: double (nullable = true)\n",
      " |-- _c18: double (nullable = true)\n",
      " |-- _c19: double (nullable = true)\n",
      " |-- _c20: double (nullable = true)\n",
      " |-- _c21: double (nullable = true)\n",
      " |-- _c22: double (nullable = true)\n",
      " |-- _c23: double (nullable = true)\n",
      " |-- _c24: double (nullable = true)\n",
      " |-- _c25: double (nullable = true)\n",
      " |-- _c26: double (nullable = true)\n",
      " |-- _c27: double (nullable = true)\n",
      " |-- _c28: double (nullable = true)\n",
      " |-- _c29: double (nullable = true)\n",
      " |-- _c30: double (nullable = true)\n",
      " |-- _c31: double (nullable = true)\n",
      " |-- _c32: double (nullable = true)\n",
      " |-- _c33: double (nullable = true)\n",
      " |-- _c34: double (nullable = true)\n",
      " |-- _c35: double (nullable = true)\n",
      " |-- _c36: double (nullable = true)\n",
      " |-- _c37: double (nullable = true)\n",
      " |-- _c38: double (nullable = true)\n",
      " |-- _c39: double (nullable = true)\n",
      " |-- _c40: double (nullable = true)\n",
      " |-- _c41: double (nullable = true)\n",
      " |-- _c42: double (nullable = true)\n",
      " |-- _c43: double (nullable = true)\n",
      " |-- _c44: double (nullable = true)\n",
      " |-- _c45: double (nullable = true)\n",
      " |-- _c46: double (nullable = true)\n",
      " |-- _c47: double (nullable = true)\n",
      " |-- _c48: double (nullable = true)\n",
      " |-- _c49: double (nullable = true)\n",
      " |-- _c50: double (nullable = true)\n",
      " |-- _c51: double (nullable = true)\n",
      " |-- _c52: double (nullable = true)\n",
      " |-- _c53: double (nullable = true)\n",
      " |-- _c54: double (nullable = true)\n",
      " |-- _c55: double (nullable = true)\n",
      " |-- _c56: double (nullable = true)\n",
      " |-- _c57: double (nullable = true)\n",
      " |-- _c58: double (nullable = true)\n",
      " |-- _c59: double (nullable = true)\n",
      " |-- _c60: double (nullable = true)\n",
      " |-- _c61: double (nullable = true)\n",
      " |-- _c62: double (nullable = true)\n",
      " |-- _c63: double (nullable = true)\n",
      " |-- _c64: double (nullable = true)\n",
      " |-- _c65: double (nullable = true)\n",
      " |-- _c66: double (nullable = true)\n",
      " |-- _c67: double (nullable = true)\n",
      " |-- _c68: double (nullable = true)\n",
      " |-- _c69: double (nullable = true)\n",
      " |-- _c70: double (nullable = true)\n",
      " |-- _c71: double (nullable = true)\n",
      " |-- _c72: double (nullable = true)\n",
      " |-- _c73: double (nullable = true)\n",
      " |-- _c74: double (nullable = true)\n",
      " |-- _c75: double (nullable = true)\n",
      " |-- _c76: double (nullable = true)\n",
      " |-- _c77: double (nullable = true)\n",
      " |-- _c78: double (nullable = true)\n",
      " |-- _c79: double (nullable = true)\n",
      " |-- _c80: double (nullable = true)\n",
      " |-- _c81: double (nullable = true)\n",
      " |-- _c82: double (nullable = true)\n",
      " |-- _c83: double (nullable = true)\n",
      " |-- _c84: double (nullable = true)\n",
      " |-- _c85: double (nullable = true)\n",
      " |-- _c86: double (nullable = true)\n",
      " |-- _c87: double (nullable = true)\n",
      " |-- _c88: double (nullable = true)\n",
      " |-- _c89: double (nullable = true)\n",
      " |-- _c90: double (nullable = true)\n",
      "\n"
     ]
    }
   ],
   "source": [
    "MSD_dd.printSchema()"
   ]
  },
  {
   "cell_type": "markdown",
   "id": "15e93150-36a5-471d-ac3b-eb8a8b17a4c4",
   "metadata": {},
   "source": [
    "---\n",
    "\n",
    "Start the Machine Learing process!\n",
    "\n",
    "First, we will need to split the data to training and test sets"
   ]
  },
  {
   "cell_type": "code",
   "execution_count": 10,
   "id": "516763da-eeb2-4202-86ab-d4babfa6ef80",
   "metadata": {},
   "outputs": [],
   "source": [
    "from pyspark.ml.feature import VectorAssembler \n",
    "from pyspark.ml import Pipeline\n",
    "from pyspark.ml.regression import GBTRegressor\n",
    "from pyspark.ml.feature import VectorIndexer\n",
    "from pyspark.ml.evaluation import RegressionEvaluator\n",
    "\n",
    "(trainingData, testData) = MSD_dd.randomSplit([0.7, 0.3])"
   ]
  },
  {
   "cell_type": "markdown",
   "id": "0df15e3d-51da-4199-ae64-497e47aba2e7",
   "metadata": {},
   "source": [
    "Get the columns for the features (timbre attributes)"
   ]
  },
  {
   "cell_type": "code",
   "execution_count": 11,
   "id": "38b4645a-2def-43b6-8a35-9161988f84fd",
   "metadata": {},
   "outputs": [],
   "source": [
    "feature_columns = MSD_dd.columns[1:]"
   ]
  },
  {
   "cell_type": "markdown",
   "id": "b827c4b4-3bd0-4872-a78c-61d911c500b6",
   "metadata": {},
   "source": [
    "Setting up Spark's gradient boosting Regressor"
   ]
  },
  {
   "cell_type": "code",
   "execution_count": 12,
   "id": "4d6eeec9-fe03-4541-9dc6-f67a8026b776",
   "metadata": {},
   "outputs": [],
   "source": [
    "MSD_data = VectorAssembler(inputCols=feature_columns, outputCol=\"features\")\n",
    "gbt = GBTRegressor(featuresCol=\"features\", labelCol=\"_c0\", maxIter=10, maxDepth=10)\n",
    "pipeline = Pipeline(stages=[MSD_data, gbt])"
   ]
  },
  {
   "cell_type": "markdown",
   "id": "4c921fb3-789d-4803-ae06-05d94925bcaf",
   "metadata": {},
   "source": [
    "Train the model with `trainingData`"
   ]
  },
  {
   "cell_type": "code",
   "execution_count": 13,
   "id": "1b1f7393-4923-4db3-8b05-f32690b8ae42",
   "metadata": {},
   "outputs": [
    {
     "name": "stderr",
     "output_type": "stream",
     "text": [
      "                                                                                \r"
     ]
    }
   ],
   "source": [
    "model = pipeline.fit(trainingData)"
   ]
  },
  {
   "cell_type": "markdown",
   "id": "f29fe555-ae8f-469b-8946-3504c4e81335",
   "metadata": {},
   "source": [
    "---\n",
    "\n",
    "Now, we make predictions from the trained model"
   ]
  },
  {
   "cell_type": "code",
   "execution_count": 14,
   "id": "bd71b2cf-0a3a-4351-ac0d-69264955baa7",
   "metadata": {},
   "outputs": [
    {
     "name": "stdout",
     "output_type": "stream",
     "text": [
      "+------------------+----+--------------------+\n",
      "|        prediction| _c0|            features|\n",
      "+------------------+----+--------------------+\n",
      "|1981.6303655935535|1941|[30.25882,-62.391...|\n",
      "|  1989.66312356362|1941|[31.96273,-101.69...|\n",
      "|1987.0270204672634|1941|[34.57043,-169.65...|\n",
      "|1984.6133678545932|1941|[39.21391,-135.56...|\n",
      "|1989.9391258267783|1958|[42.68421,15.1133...|\n",
      "+------------------+----+--------------------+\n",
      "only showing top 5 rows\n",
      "\n"
     ]
    },
    {
     "name": "stderr",
     "output_type": "stream",
     "text": [
      "[Stage 211:===========================>                          (36 + 36) / 72]\r"
     ]
    },
    {
     "name": "stdout",
     "output_type": "stream",
     "text": [
      "Root Mean Squared Error (RMSE) on test data = 9.53532\n"
     ]
    },
    {
     "name": "stderr",
     "output_type": "stream",
     "text": [
      "                                                                                \r"
     ]
    }
   ],
   "source": [
    "# Make predictions.\n",
    "predictions = model.transform(testData)\n",
    "\n",
    "# Select example rows to display.\n",
    "predictions.select(\"prediction\", \"_c0\", \"features\").show(5)\n",
    "\n",
    "# Select (prediction, true label) and compute test error\n",
    "evaluator = RegressionEvaluator(\n",
    "    labelCol=\"_c0\", predictionCol=\"prediction\", metricName=\"rmse\")\n",
    "rmse = evaluator.evaluate(predictions)\n",
    "\n",
    "print(\"Root Mean Squared Error (RMSE) on test data = %g\" % rmse)\n"
   ]
  },
  {
   "cell_type": "code",
   "execution_count": null,
   "id": "6a010841-bf73-4f3d-ba71-1ef52a1e4b30",
   "metadata": {},
   "outputs": [],
   "source": []
  }
 ],
 "metadata": {
  "kernelspec": {
   "display_name": "mypyspark",
   "language": "python",
   "name": "mypyspark"
  },
  "language_info": {
   "codemirror_mode": {
    "name": "ipython",
    "version": 3
   },
   "file_extension": ".py",
   "mimetype": "text/x-python",
   "name": "python",
   "nbconvert_exporter": "python",
   "pygments_lexer": "ipython3",
   "version": "3.9.13"
  }
 },
 "nbformat": 4,
 "nbformat_minor": 5
}
